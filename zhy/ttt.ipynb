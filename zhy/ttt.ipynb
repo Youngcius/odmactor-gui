{
 "cells": [
  {
   "cell_type": "code",
   "execution_count": 1,
   "metadata": {},
   "outputs": [],
   "source": [
    "import TimeTagger as tt"
   ]
  },
  {
   "cell_type": "code",
   "execution_count": null,
   "metadata": {},
   "outputs": [],
   "source": [
    "tagger = tt.createTimeTagger()\n",
    "tagger.set"
   ]
  },
  {
   "cell_type": "code",
   "execution_count": 1,
   "outputs": [],
   "source": [
    "import random"
   ],
   "metadata": {
    "collapsed": false,
    "pycharm": {
     "name": "#%%\n"
    }
   }
  },
  {
   "cell_type": "code",
   "execution_count": 7,
   "outputs": [
    {
     "data": {
      "text/plain": "'E:\\\\Git-Projects\\\\odmactor-gui\\\\zhy'"
     },
     "execution_count": 7,
     "metadata": {},
     "output_type": "execute_result"
    }
   ],
   "source": [
    "import os\n",
    "\n",
    "import json\n",
    "os.getcwd()\n"
   ],
   "metadata": {
    "collapsed": false,
    "pycharm": {
     "name": "#%%\n"
    }
   }
  },
  {
   "cell_type": "code",
   "execution_count": 13,
   "outputs": [],
   "source": [
    "\n",
    "with open('ttt.json', 'r') as f:\n",
    "    d = json.load(f)"
   ],
   "metadata": {
    "collapsed": false,
    "pycharm": {
     "name": "#%%\n"
    }
   }
  },
  {
   "cell_type": "code",
   "execution_count": 14,
   "outputs": [
    {
     "data": {
      "text/plain": "{'hoverinfo': '1',\n 'name': '1',\n 'channel': 1,\n 'x': [0, 0.001, 0.002, 0.003, 0.004, 0.005, 0.006, 0.007, 0.008, 0.009],\n 'type': 'scattergl',\n 'counts': [0, 0, 0, 0, 0, 0, 0, 0, 0, 0],\n 'counts (1/s)': [0, 0, 0, 0, 0, 0, 0, 0, 0, 0]}"
     },
     "execution_count": 14,
     "metadata": {},
     "output_type": "execute_result"
    }
   ],
   "source": [
    "d"
   ],
   "metadata": {
    "collapsed": false,
    "pycharm": {
     "name": "#%%\n"
    }
   }
  },
  {
   "cell_type": "code",
   "execution_count": 16,
   "outputs": [
    {
     "data": {
      "text/plain": "dict"
     },
     "execution_count": 16,
     "metadata": {},
     "output_type": "execute_result"
    }
   ],
   "source": [
    "type(d)"
   ],
   "metadata": {
    "collapsed": false,
    "pycharm": {
     "name": "#%%\n"
    }
   }
  },
  {
   "cell_type": "code",
   "execution_count": 20,
   "outputs": [
    {
     "data": {
      "text/plain": "'E:\\\\Git-Projects\\\\odmactor-gui\\\\zhy\\\\~'"
     },
     "execution_count": 20,
     "metadata": {},
     "output_type": "execute_result"
    }
   ],
   "source": [
    "os.path.abspath('~')"
   ],
   "metadata": {
    "collapsed": false,
    "pycharm": {
     "name": "#%%\n"
    }
   }
  },
  {
   "cell_type": "code",
   "execution_count": 23,
   "outputs": [
    {
     "data": {
      "text/plain": "['.android',\n '.bash_history',\n '.cache',\n '.cisco',\n '.comsol',\n '.conda',\n '.condarc',\n '.config',\n '.DataGrip2019.3',\n '.designer',\n '.dgl',\n '.docker',\n '.dotnet',\n '.gitconfig',\n '.IntelliJIdea2019.3',\n '.ipynb_checkpoints',\n '.ipython',\n '.jupyter',\n '.keras',\n '.lemminx',\n '.lesshst',\n '.matplotlib',\n '.nuget',\n '.omnisharp',\n '.platformio',\n '.PyCharm2019.3',\n '.pylint.d',\n '.python_history',\n '.pyxbld',\n '.spyder-py3',\n '.ssh',\n '.templateengine',\n '.texlive2019',\n '.timetagger.conf',\n '.tooling',\n '.VirtualBox',\n '.virtual_documents',\n '.vscode',\n '.vsts',\n '3D Objects',\n 'Admin.csproj',\n 'AppData',\n 'Apple',\n 'Application Data',\n 'AzureStorageEmulatorDb510.mdf',\n 'AzureStorageEmulatorDb510_log.ldf',\n 'baidu-map-ak.txt',\n 'code-latex-setting.txt',\n 'Contacts',\n 'Cookies',\n 'Dastasets',\n 'Desktop',\n 'Documents',\n 'Downloads',\n 'Favorites',\n 'github-token.txt',\n 'IdeaProjects',\n 'ilyUkBmU4hH',\n 'IntelGraphicsProfiles',\n 'Links',\n 'Local Settings',\n 'log-bigdata.txt',\n 'MicrosoftEdgeBackups',\n 'miniconda3',\n 'Music',\n 'My Documents',\n 'NetHood',\n 'NTUSER.DAT',\n 'ntuser.dat.LOG1',\n 'ntuser.dat.LOG2',\n 'NTUSER.DAT{53b39e88-18c4-11ea-a811-000d3aa4692b}.TM.blf',\n 'NTUSER.DAT{53b39e88-18c4-11ea-a811-000d3aa4692b}.TMContainer00000000000000000001.regtrans-ms',\n 'NTUSER.DAT{53b39e88-18c4-11ea-a811-000d3aa4692b}.TMContainer00000000000000000002.regtrans-ms',\n 'ntuser.ini',\n 'obj',\n 'OneDrive',\n 'OneDrive - University of Arizona',\n 'Pictures',\n 'PrintHood',\n 'Program.cs',\n 'PycharmProjects',\n 'python-mirror.txt',\n 'qc02latex.png',\n 'qc02mpl.png',\n 'qcirc-tmp.pdf',\n 'qcirc.aux',\n 'qcirc.bin',\n 'qcirc.pdf',\n 'qcirc.tex',\n 'qms-bmh1.bmp',\n 'qms-bmh2.bmp',\n 'qms-bmh3.bmp',\n 'quartus2.ini',\n 'quartus2.qreg',\n 'Recent',\n 'Saved Games',\n 'scikit_learn_data',\n 'score_2020_04_28_18_52_48.txt',\n 'Searches',\n 'SendTo',\n 'Source',\n 'ssh-backup',\n 'student_2020_04_28_18_33_28.txt',\n 'tantianrui@hpc.arizona.edu',\n 'Templates',\n 'Untitled Folder',\n 'Untitled Folder 1',\n 'Untitled.ipynb',\n 'Untitled1.ipynb',\n 'Videos',\n 'VirtualBox VMs',\n 'Zotero',\n '~',\n '「开始」菜单',\n '身份证.png']"
     },
     "execution_count": 23,
     "metadata": {},
     "output_type": "execute_result"
    }
   ],
   "source": [
    "os.listdir(os.path.expanduser('~'))"
   ],
   "metadata": {
    "collapsed": false,
    "pycharm": {
     "name": "#%%\n"
    }
   }
  },
  {
   "cell_type": "code",
   "execution_count": 26,
   "outputs": [
    {
     "data": {
      "text/plain": "'C:\\\\Users\\\\Admin\\\\asd\\\\asdas'"
     },
     "execution_count": 26,
     "metadata": {},
     "output_type": "execute_result"
    }
   ],
   "source": [
    "os.path.join(os.path.expanduser('~'), 'asd', 'asdas')"
   ],
   "metadata": {
    "collapsed": false,
    "pycharm": {
     "name": "#%%\n"
    }
   }
  },
  {
   "cell_type": "code",
   "execution_count": 27,
   "outputs": [
    {
     "data": {
      "text/plain": "2231155017920"
     },
     "execution_count": 27,
     "metadata": {},
     "output_type": "execute_result"
    }
   ],
   "source": [
    "l = [1,2,3]\n",
    "id(l)"
   ],
   "metadata": {
    "collapsed": false,
    "pycharm": {
     "name": "#%%\n"
    }
   }
  },
  {
   "cell_type": "code",
   "execution_count": 28,
   "outputs": [
    {
     "data": {
      "text/plain": "2231155017920"
     },
     "execution_count": 28,
     "metadata": {},
     "output_type": "execute_result"
    }
   ],
   "source": [
    "l[0] = 100\n",
    "id(l)"
   ],
   "metadata": {
    "collapsed": false,
    "pycharm": {
     "name": "#%%\n"
    }
   }
  },
  {
   "cell_type": "code",
   "execution_count": 29,
   "outputs": [
    {
     "data": {
      "text/plain": "2231185214400"
     },
     "execution_count": 29,
     "metadata": {},
     "output_type": "execute_result"
    }
   ],
   "source": [
    "l = [1,2,3,4]\n",
    "id(l)"
   ],
   "metadata": {
    "collapsed": false,
    "pycharm": {
     "name": "#%%\n"
    }
   }
  },
  {
   "cell_type": "code",
   "execution_count": 30,
   "outputs": [
    {
     "data": {
      "text/plain": "2231154731392"
     },
     "execution_count": 30,
     "metadata": {},
     "output_type": "execute_result"
    }
   ],
   "source": [
    "s = l.copy()\n",
    "id(s)"
   ],
   "metadata": {
    "collapsed": false,
    "pycharm": {
     "name": "#%%\n"
    }
   }
  }
 ],
 "metadata": {
  "interpreter": {
   "hash": "26d6d95e799f68a0680bea77b17a4e3218da601be7d02863e2950dbe63a5be85"
  },
  "kernelspec": {
   "display_name": "Python 3.8.12 ('base')",
   "language": "python",
   "name": "python3"
  },
  "language_info": {
   "codemirror_mode": {
    "name": "ipython",
    "version": 3
   },
   "file_extension": ".py",
   "mimetype": "text/x-python",
   "name": "python",
   "nbconvert_exporter": "python",
   "pygments_lexer": "ipython3",
   "version": "3.8.12"
  },
  "orig_nbformat": 4
 },
 "nbformat": 4,
 "nbformat_minor": 2
}